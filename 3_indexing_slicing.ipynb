{
 "cells": [
  {
   "cell_type": "code",
   "execution_count": 2,
   "id": "f4702ed4-2dd5-45b9-bde4-714743014726",
   "metadata": {},
   "outputs": [],
   "source": [
    "import numpy as np"
   ]
  },
  {
   "cell_type": "code",
   "execution_count": 3,
   "id": "05c32e22-93ec-429b-a227-71b48bd9d37a",
   "metadata": {},
   "outputs": [],
   "source": [
    "arr = np.arange(10, 100, 10)"
   ]
  },
  {
   "cell_type": "code",
   "execution_count": 4,
   "id": "e43ed4eb-9767-4d00-aa25-00eb289178cf",
   "metadata": {},
   "outputs": [
    {
     "data": {
      "text/plain": [
       "array([10, 20, 30, 40, 50, 60, 70, 80, 90])"
      ]
     },
     "execution_count": 4,
     "metadata": {},
     "output_type": "execute_result"
    }
   ],
   "source": [
    "arr"
   ]
  },
  {
   "cell_type": "code",
   "execution_count": 5,
   "id": "02f2ddb4-7858-45d3-b3e0-f560e27008df",
   "metadata": {},
   "outputs": [
    {
     "data": {
      "text/plain": [
       "array([40, 50])"
      ]
     },
     "execution_count": 5,
     "metadata": {},
     "output_type": "execute_result"
    }
   ],
   "source": [
    "arr[3:5]"
   ]
  },
  {
   "cell_type": "code",
   "execution_count": 10,
   "id": "3fcfb7e7-16a7-470f-b135-0b0ef2cdb85a",
   "metadata": {},
   "outputs": [
    {
     "data": {
      "text/plain": [
       "array([10, 20, 30,  0,  0, 60, 70, 80, 90])"
      ]
     },
     "execution_count": 10,
     "metadata": {},
     "output_type": "execute_result"
    }
   ],
   "source": [
    "sliced_arr = arr[3:5]\n",
    "sliced_arr[:] = 0\n",
    "arr"
   ]
  },
  {
   "cell_type": "code",
   "execution_count": 15,
   "id": "6334c5f1-984b-48dc-901d-83b7794b3dc2",
   "metadata": {},
   "outputs": [
    {
     "data": {
      "text/plain": [
       "array([0, 0])"
      ]
     },
     "execution_count": 15,
     "metadata": {},
     "output_type": "execute_result"
    }
   ],
   "source": [
    "arr1 = np.arange(10, 100, 10)\n",
    "sliced_arr1 = arr1[3:5].copy()\n",
    "sliced_arr1[:] = 0\n",
    "sliced_arr1"
   ]
  },
  {
   "cell_type": "code",
   "execution_count": 16,
   "id": "37735317-dd2d-4385-b275-f46267eb1e7f",
   "metadata": {},
   "outputs": [
    {
     "data": {
      "text/plain": [
       "array([10, 20, 30, 40, 50, 60, 70, 80, 90])"
      ]
     },
     "execution_count": 16,
     "metadata": {},
     "output_type": "execute_result"
    }
   ],
   "source": [
    "arr1"
   ]
  },
  {
   "cell_type": "code",
   "execution_count": 19,
   "id": "3c718122-5a4e-410e-8de3-f2e45c974f02",
   "metadata": {},
   "outputs": [],
   "source": [
    "arr2d = np.array([[1, 2, 3],\n",
    "                  [4, 5, 6],\n",
    "                  [7, 8, 9]])"
   ]
  },
  {
   "cell_type": "code",
   "execution_count": 20,
   "id": "572804d3-9803-47aa-b104-42aea5445c4f",
   "metadata": {},
   "outputs": [
    {
     "data": {
      "text/plain": [
       "7"
      ]
     },
     "execution_count": 20,
     "metadata": {},
     "output_type": "execute_result"
    }
   ],
   "source": [
    "arr2d[2, 0]"
   ]
  },
  {
   "cell_type": "code",
   "execution_count": 22,
   "id": "c52a8542-5df5-4691-a302-2e9d3ac47382",
   "metadata": {},
   "outputs": [
    {
     "data": {
      "text/plain": [
       "array([8, 9])"
      ]
     },
     "execution_count": 22,
     "metadata": {},
     "output_type": "execute_result"
    }
   ],
   "source": [
    "arr2d[2, 1:]"
   ]
  },
  {
   "cell_type": "code",
   "execution_count": 25,
   "id": "61f1db73-7a3b-4b13-94d8-5d2057761047",
   "metadata": {},
   "outputs": [
    {
     "data": {
      "text/plain": [
       "array([[2, 3],\n",
       "       [5, 6]])"
      ]
     },
     "execution_count": 25,
     "metadata": {},
     "output_type": "execute_result"
    }
   ],
   "source": [
    "arr2d[:2, 1:]"
   ]
  },
  {
   "cell_type": "code",
   "execution_count": 27,
   "id": "565804d6-b260-4d27-9f3c-3c7b70ab0ef5",
   "metadata": {},
   "outputs": [
    {
     "data": {
      "text/plain": [
       "array([[1, 2],\n",
       "       [4, 5],\n",
       "       [7, 8]])"
      ]
     },
     "execution_count": 27,
     "metadata": {},
     "output_type": "execute_result"
    }
   ],
   "source": [
    "arr2d[:3, :2]"
   ]
  },
  {
   "cell_type": "code",
   "execution_count": 28,
   "id": "0a5b1c0a-d45e-4feb-a35f-850171bf269e",
   "metadata": {},
   "outputs": [
    {
     "data": {
      "text/plain": [
       "array([[1, 2],\n",
       "       [4, 5],\n",
       "       [7, 8]])"
      ]
     },
     "execution_count": 28,
     "metadata": {},
     "output_type": "execute_result"
    }
   ],
   "source": [
    "arr2d[:, :2]"
   ]
  },
  {
   "cell_type": "code",
   "execution_count": 29,
   "id": "edda8e11-0df6-473a-8b2c-b5cdb032cd2c",
   "metadata": {},
   "outputs": [
    {
     "data": {
      "text/plain": [
       "array([4, 5])"
      ]
     },
     "execution_count": 29,
     "metadata": {},
     "output_type": "execute_result"
    }
   ],
   "source": [
    "arr2d[1, :2]"
   ]
  },
  {
   "cell_type": "code",
   "execution_count": 30,
   "id": "ba3654b1-4aa1-47f8-bd86-a370d0ad436f",
   "metadata": {},
   "outputs": [
    {
     "data": {
      "text/plain": [
       "array([[4, 5]])"
      ]
     },
     "execution_count": 30,
     "metadata": {},
     "output_type": "execute_result"
    }
   ],
   "source": [
    "arr2d[1:2, :2]"
   ]
  },
  {
   "cell_type": "code",
   "execution_count": 31,
   "id": "890e4673-0873-4ea1-9919-95413b9d34eb",
   "metadata": {},
   "outputs": [],
   "source": [
    "arr3d = np.array([\n",
    "        [\n",
    "        [1, 2, 3],\n",
    "        [4, 5, 6],\n",
    "        [7, 8, 9]\n",
    "        ],\n",
    "    \n",
    "        [\n",
    "        [11, 12, 13],\n",
    "        [14, 15, 16],\n",
    "        [17, 18, 19]\n",
    "        ],\n",
    "    \n",
    "        [\n",
    "        [20, 21, 22],\n",
    "        [23, 24, 25],\n",
    "        [26, 27, 28]\n",
    "        ],    \n",
    "])"
   ]
  },
  {
   "cell_type": "code",
   "execution_count": 33,
   "id": "dea4589b-80b8-4d50-86a3-dd171a533864",
   "metadata": {},
   "outputs": [
    {
     "data": {
      "text/plain": [
       "3"
      ]
     },
     "execution_count": 33,
     "metadata": {},
     "output_type": "execute_result"
    }
   ],
   "source": [
    "arr3d.ndim"
   ]
  },
  {
   "cell_type": "code",
   "execution_count": 34,
   "id": "aad6dd18-0ed6-437b-8ec7-6ded8cfa71fd",
   "metadata": {},
   "outputs": [
    {
     "data": {
      "text/plain": [
       "array([8, 9])"
      ]
     },
     "execution_count": 34,
     "metadata": {},
     "output_type": "execute_result"
    }
   ],
   "source": [
    "arr3d[0][2, 1:]"
   ]
  },
  {
   "cell_type": "code",
   "execution_count": 35,
   "id": "8549a2ca-1560-4643-b002-7054a2991195",
   "metadata": {},
   "outputs": [
    {
     "data": {
      "text/plain": [
       "array([[1],\n",
       "       [4]])"
      ]
     },
     "execution_count": 35,
     "metadata": {},
     "output_type": "execute_result"
    }
   ],
   "source": [
    "arr3d[0][:2, :1]"
   ]
  },
  {
   "cell_type": "code",
   "execution_count": null,
   "id": "da940181-d892-4608-8ab9-67658d0ece36",
   "metadata": {},
   "outputs": [],
   "source": []
  }
 ],
 "metadata": {
  "kernelspec": {
   "display_name": "Python 3 (ipykernel)",
   "language": "python",
   "name": "python3"
  },
  "language_info": {
   "codemirror_mode": {
    "name": "ipython",
    "version": 3
   },
   "file_extension": ".py",
   "mimetype": "text/x-python",
   "name": "python",
   "nbconvert_exporter": "python",
   "pygments_lexer": "ipython3",
   "version": "3.11.7"
  }
 },
 "nbformat": 4,
 "nbformat_minor": 5
}
