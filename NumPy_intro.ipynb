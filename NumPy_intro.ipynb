{
 "cells": [
  {
   "cell_type": "code",
   "execution_count": 3,
   "id": "543e114a-df31-4112-a7e5-81b79fa43544",
   "metadata": {},
   "outputs": [],
   "source": [
    "import numpy as np"
   ]
  },
  {
   "cell_type": "code",
   "execution_count": 4,
   "id": "566f581d-2c64-42e1-8b89-1e2174a9b166",
   "metadata": {},
   "outputs": [],
   "source": [
    "my_list = list(range(10**5)) # --> Normal\n",
    "my_array = np.array(range(10**5)) # --> Vektorlashgan"
   ]
  },
  {
   "cell_type": "code",
   "execution_count": 5,
   "id": "5369b5f6-36d9-41af-bf19-63ceb820ef95",
   "metadata": {},
   "outputs": [
    {
     "name": "stdout",
     "output_type": "stream",
     "text": [
      "CPU times: total: 62.5 ms\n",
      "Wall time: 74 ms\n"
     ]
    }
   ],
   "source": [
    "%time for _ in range(10): [x*2 for x in my_list]"
   ]
  },
  {
   "cell_type": "code",
   "execution_count": 6,
   "id": "5a0ff0f8-836d-4dbc-9833-5ad0efc2a6f9",
   "metadata": {},
   "outputs": [
    {
     "name": "stdout",
     "output_type": "stream",
     "text": [
      "CPU times: total: 0 ns\n",
      "Wall time: 999 µs\n"
     ]
    }
   ],
   "source": [
    "%time for _ in range(10): my_array*2"
   ]
  },
  {
   "cell_type": "code",
   "execution_count": 7,
   "id": "6dd18824-ed97-40b4-840c-cd77cbbc364d",
   "metadata": {},
   "outputs": [
    {
     "data": {
      "text/plain": [
       "74.07407407407408"
      ]
     },
     "execution_count": 7,
     "metadata": {},
     "output_type": "execute_result"
    }
   ],
   "source": [
    "(74*10**(-3))/(999*10**(-6))"
   ]
  },
  {
   "cell_type": "code",
   "execution_count": null,
   "id": "09adb54d-305d-4746-8517-da3044e9bce3",
   "metadata": {},
   "outputs": [],
   "source": []
  }
 ],
 "metadata": {
  "kernelspec": {
   "display_name": "Python 3 (ipykernel)",
   "language": "python",
   "name": "python3"
  },
  "language_info": {
   "codemirror_mode": {
    "name": "ipython",
    "version": 3
   },
   "file_extension": ".py",
   "mimetype": "text/x-python",
   "name": "python",
   "nbconvert_exporter": "python",
   "pygments_lexer": "ipython3",
   "version": "3.11.7"
  }
 },
 "nbformat": 4,
 "nbformat_minor": 5
}
