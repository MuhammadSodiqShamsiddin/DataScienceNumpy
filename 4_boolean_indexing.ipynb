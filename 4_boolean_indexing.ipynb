{
 "cells": [
  {
   "cell_type": "code",
   "execution_count": 1,
   "id": "e738145e-c7bf-41fa-a73f-640687376965",
   "metadata": {},
   "outputs": [],
   "source": [
    "import numpy as np"
   ]
  },
  {
   "cell_type": "code",
   "execution_count": 2,
   "id": "c9f375b2-2771-4795-9006-b48879b11a86",
   "metadata": {},
   "outputs": [],
   "source": [
    "names = np.array(['Axror', 'Abror', 'Asror', 'Anvar', 'Akmal', 'Axror', 'Asror'])"
   ]
  },
  {
   "cell_type": "code",
   "execution_count": 3,
   "id": "af1318f1-6e46-42f1-af51-96b46d870aa4",
   "metadata": {},
   "outputs": [],
   "source": [
    "data = np.random.randn(7, 4)"
   ]
  },
  {
   "cell_type": "code",
   "execution_count": 4,
   "id": "ab8ba664-811b-4450-9ce4-b3b43df6543d",
   "metadata": {},
   "outputs": [
    {
     "data": {
      "text/plain": [
       "array([[ 0.86719567,  0.98677598,  0.33230864, -1.55918018],\n",
       "       [-0.27307315,  0.36454984, -1.02515902, -0.44823725],\n",
       "       [ 0.4061806 , -0.63787689,  0.18472881, -0.13831589],\n",
       "       [-0.64677993,  1.01776085,  0.44743944,  1.72932322],\n",
       "       [-0.28878785, -0.96201088, -0.15798632, -0.26613871],\n",
       "       [-0.17104952,  0.63918472,  0.20308847,  0.15221774],\n",
       "       [-2.65977076, -1.00464455, -0.46127143, -0.16574032]])"
      ]
     },
     "execution_count": 4,
     "metadata": {},
     "output_type": "execute_result"
    }
   ],
   "source": [
    "data"
   ]
  },
  {
   "cell_type": "code",
   "execution_count": 5,
   "id": "0c1bcfe6-85e3-4f44-903d-953d8b817ebc",
   "metadata": {},
   "outputs": [
    {
     "data": {
      "text/plain": [
       "array([ True, False, False, False, False,  True, False])"
      ]
     },
     "execution_count": 5,
     "metadata": {},
     "output_type": "execute_result"
    }
   ],
   "source": [
    "names == 'Axror'"
   ]
  },
  {
   "cell_type": "code",
   "execution_count": 6,
   "id": "8617636d-48bc-4d2f-9afd-5bc7765df8d9",
   "metadata": {},
   "outputs": [
    {
     "data": {
      "text/plain": [
       "array([False, False,  True, False, False, False,  True])"
      ]
     },
     "execution_count": 6,
     "metadata": {},
     "output_type": "execute_result"
    }
   ],
   "source": [
    "names == 'Asror'"
   ]
  },
  {
   "cell_type": "code",
   "execution_count": 7,
   "id": "9a95696d-fe61-4053-ab83-555eea33f83a",
   "metadata": {},
   "outputs": [
    {
     "data": {
      "text/plain": [
       "array([[ 0.86719567,  0.98677598,  0.33230864, -1.55918018],\n",
       "       [-0.17104952,  0.63918472,  0.20308847,  0.15221774]])"
      ]
     },
     "execution_count": 7,
     "metadata": {},
     "output_type": "execute_result"
    }
   ],
   "source": [
    "data[names == 'Axror']# Axrorga tegishli ma'lumotlar"
   ]
  },
  {
   "cell_type": "code",
   "execution_count": 22,
   "id": "c853326c-5433-45d6-aedf-395c780dc861",
   "metadata": {},
   "outputs": [],
   "source": [
    "#data[names == 'Asror', :2]"
   ]
  },
  {
   "cell_type": "code",
   "execution_count": 21,
   "id": "34aedd9c-d579-4c3a-b80f-213df10f8a98",
   "metadata": {},
   "outputs": [],
   "source": [
    "#data[~(names == 'Axror')]"
   ]
  },
  {
   "cell_type": "code",
   "execution_count": 18,
   "id": "8c484dcc-911a-4ff4-97ef-18ee0a72a79d",
   "metadata": {},
   "outputs": [
    {
     "name": "stdout",
     "output_type": "stream",
     "text": [
      "[[ 0.86719567  0.98677598  0.33230864 -1.55918018]\n",
      " [-0.17104952  0.63918472  0.20308847  0.15221774]]\n",
      "[[-0.27307315  0.36454984 -1.02515902 -0.44823725]]\n",
      "[[ 0.86719567  0.98677598  0.33230864 -1.55918018]\n",
      " [-0.17104952  0.63918472  0.20308847  0.15221774]]\n"
     ]
    }
   ],
   "source": [
    "for i in names:\n",
    "    if i == 'Axror' or i == 'Abror':\n",
    "        print(data[names == i])"
   ]
  },
  {
   "cell_type": "code",
   "execution_count": 20,
   "id": "51785a0a-c25a-44aa-8816-bec61e7fa387",
   "metadata": {},
   "outputs": [
    {
     "data": {
      "text/plain": [
       "array([[-0.27307315,  0.36454984, -1.02515902, -0.44823725]])"
      ]
     },
     "execution_count": 20,
     "metadata": {},
     "output_type": "execute_result"
    }
   ],
   "source": [
    "data[names == 'Abror']"
   ]
  },
  {
   "cell_type": "code",
   "execution_count": 23,
   "id": "9ee77714-0a79-4c98-bd30-d781c1b86ed7",
   "metadata": {},
   "outputs": [
    {
     "data": {
      "text/plain": [
       "array([[ 0.86719567,  0.98677598,  0.33230864, -1.55918018],\n",
       "       [-0.27307315,  0.36454984, -1.02515902, -0.44823725],\n",
       "       [-0.17104952,  0.63918472,  0.20308847,  0.15221774]])"
      ]
     },
     "execution_count": 23,
     "metadata": {},
     "output_type": "execute_result"
    }
   ],
   "source": [
    "mask = (names == 'Axror') | (names == 'Abror')\n",
    "data[mask]"
   ]
  },
  {
   "cell_type": "code",
   "execution_count": 24,
   "id": "bbb3cc93-d962-46fb-a9a1-3aec2682166b",
   "metadata": {},
   "outputs": [
    {
     "data": {
      "text/plain": [
       "array([[ 0.86719567,  0.98677598,  0.33230864, -1.55918018],\n",
       "       [-0.27307315,  0.36454984, -1.02515902, -0.44823725],\n",
       "       [ 0.4061806 , -0.63787689,  0.18472881, -0.13831589],\n",
       "       [-0.64677993,  1.01776085,  0.44743944,  1.72932322],\n",
       "       [-0.28878785, -0.96201088, -0.15798632, -0.26613871],\n",
       "       [-0.17104952,  0.63918472,  0.20308847,  0.15221774],\n",
       "       [-2.65977076, -1.00464455, -0.46127143, -0.16574032]])"
      ]
     },
     "execution_count": 24,
     "metadata": {},
     "output_type": "execute_result"
    }
   ],
   "source": [
    "data"
   ]
  },
  {
   "cell_type": "code",
   "execution_count": 25,
   "id": "442875f9-b6be-4a87-8def-163859f61582",
   "metadata": {},
   "outputs": [
    {
     "data": {
      "text/plain": [
       "array([-1.55918018, -0.27307315, -1.02515902, -0.44823725, -0.63787689,\n",
       "       -0.13831589, -0.64677993, -0.28878785, -0.96201088, -0.15798632,\n",
       "       -0.26613871, -0.17104952, -2.65977076, -1.00464455, -0.46127143,\n",
       "       -0.16574032])"
      ]
     },
     "execution_count": 25,
     "metadata": {},
     "output_type": "execute_result"
    }
   ],
   "source": [
    "data[data<0]"
   ]
  },
  {
   "cell_type": "code",
   "execution_count": 26,
   "id": "392b9493-eed4-4a91-959b-c4a225becde0",
   "metadata": {},
   "outputs": [
    {
     "data": {
      "text/plain": [
       "array([[0.86719567, 0.98677598, 0.33230864, 0.        ],\n",
       "       [0.        , 0.36454984, 0.        , 0.        ],\n",
       "       [0.4061806 , 0.        , 0.18472881, 0.        ],\n",
       "       [0.        , 1.01776085, 0.44743944, 1.72932322],\n",
       "       [0.        , 0.        , 0.        , 0.        ],\n",
       "       [0.        , 0.63918472, 0.20308847, 0.15221774],\n",
       "       [0.        , 0.        , 0.        , 0.        ]])"
      ]
     },
     "execution_count": 26,
     "metadata": {},
     "output_type": "execute_result"
    }
   ],
   "source": [
    "data[data<0] = 0\n",
    "\n",
    "data"
   ]
  },
  {
   "cell_type": "code",
   "execution_count": 43,
   "id": "4c272ddf-3f22-45e5-9745-da9bb43d7216",
   "metadata": {},
   "outputs": [],
   "source": [
    "def boolean_slicing():\n",
    "    \"\"\"Boolean indekslash yordamida ma'lumotlarni kesib olish \"\"\"\n",
    "    data = np.array([[5, 6, 1, 1],\n",
    "    [9, 1, 1, 1],\n",
    "    [7, 7, 4, 2],\n",
    "    [1, 5, 1, 9],\n",
    "    [9, 9, 4, 5],\n",
    "    [7, 5, 9, 6],\n",
    "    [5, 3, 7, 4]])\n",
    "    ismlar = np.array(['Hasan', 'Husan', 'Javohir', 'Elyor', 'Hasan', 'Javohir', 'Elyor'])\n",
    "    mask = (ismlar=='Javohir') | (names == 'Elyor')\n",
    "    return data[mask]"
   ]
  },
  {
   "cell_type": "code",
   "execution_count": 44,
   "id": "7c2ede85-45ac-456a-acd2-54810b9eaacf",
   "metadata": {},
   "outputs": [
    {
     "data": {
      "text/plain": [
       "array([[7, 7, 4, 2],\n",
       "       [1, 5, 1, 9],\n",
       "       [7, 5, 9, 6],\n",
       "       [5, 3, 7, 4]])"
      ]
     },
     "execution_count": 44,
     "metadata": {},
     "output_type": "execute_result"
    }
   ],
   "source": [
    "boolean_slicing()"
   ]
  },
  {
   "cell_type": "code",
   "execution_count": null,
   "id": "4f2ea49c-8fd1-4c13-802a-32809414674a",
   "metadata": {},
   "outputs": [],
   "source": []
  },
  {
   "cell_type": "code",
   "execution_count": null,
   "id": "4a1343cb-741d-4ea2-864c-aace9e2b73a1",
   "metadata": {},
   "outputs": [],
   "source": []
  }
 ],
 "metadata": {
  "kernelspec": {
   "display_name": "Python 3 (ipykernel)",
   "language": "python",
   "name": "python3"
  },
  "language_info": {
   "codemirror_mode": {
    "name": "ipython",
    "version": 3
   },
   "file_extension": ".py",
   "mimetype": "text/x-python",
   "name": "python",
   "nbconvert_exporter": "python",
   "pygments_lexer": "ipython3",
   "version": "3.11.7"
  }
 },
 "nbformat": 4,
 "nbformat_minor": 5
}
