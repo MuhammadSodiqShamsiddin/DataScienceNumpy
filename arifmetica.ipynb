{
 "cells": [
  {
   "cell_type": "code",
   "execution_count": 1,
   "id": "e5a36a0f-5923-4531-ad5a-fdc45ce42cfe",
   "metadata": {},
   "outputs": [],
   "source": [
    "import numpy as np"
   ]
  },
  {
   "cell_type": "code",
   "execution_count": 7,
   "id": "4df6f945-4622-4cad-918b-469c37aeb8d8",
   "metadata": {},
   "outputs": [],
   "source": [
    "arr1 = np.arange(6).reshape(2, 3)\n",
    "arr2 = np.arange(6, 12).reshape(2, 3)"
   ]
  },
  {
   "cell_type": "code",
   "execution_count": 8,
   "id": "8d71baba-fc1f-4db9-b6c2-eddb9a266445",
   "metadata": {},
   "outputs": [
    {
     "data": {
      "text/plain": [
       "array([[0, 1, 2],\n",
       "       [3, 4, 5]])"
      ]
     },
     "execution_count": 8,
     "metadata": {},
     "output_type": "execute_result"
    }
   ],
   "source": [
    "arr1"
   ]
  },
  {
   "cell_type": "code",
   "execution_count": 9,
   "id": "ea9c68c8-bcdb-4bb7-b39e-b94213a5d1d5",
   "metadata": {},
   "outputs": [
    {
     "data": {
      "text/plain": [
       "array([[ 6,  7,  8],\n",
       "       [ 9, 10, 11]])"
      ]
     },
     "execution_count": 9,
     "metadata": {},
     "output_type": "execute_result"
    }
   ],
   "source": [
    "arr2"
   ]
  },
  {
   "cell_type": "code",
   "execution_count": 10,
   "id": "c79ef023-b9c3-453c-97be-dd2c47262307",
   "metadata": {},
   "outputs": [
    {
     "data": {
      "text/plain": [
       "array([[ 6,  8, 10],\n",
       "       [12, 14, 16]])"
      ]
     },
     "execution_count": 10,
     "metadata": {},
     "output_type": "execute_result"
    }
   ],
   "source": [
    "arr1 + arr2"
   ]
  },
  {
   "cell_type": "code",
   "execution_count": 11,
   "id": "83644b11-010b-451b-9c3a-88a83bae155c",
   "metadata": {},
   "outputs": [
    {
     "data": {
      "text/plain": [
       "array([[ 0,  7, 16],\n",
       "       [27, 40, 55]])"
      ]
     },
     "execution_count": 11,
     "metadata": {},
     "output_type": "execute_result"
    }
   ],
   "source": [
    "arr1 * arr2"
   ]
  },
  {
   "cell_type": "code",
   "execution_count": 12,
   "id": "ff52ad8b-a3a1-40e0-b59a-3179ca6b854e",
   "metadata": {},
   "outputs": [
    {
     "name": "stderr",
     "output_type": "stream",
     "text": [
      "C:\\Users\\QuadroMi\\AppData\\Local\\Temp\\ipykernel_5360\\2767132540.py:1: RuntimeWarning: divide by zero encountered in divide\n",
      "  arr2 / arr1\n"
     ]
    },
    {
     "data": {
      "text/plain": [
       "array([[inf, 7. , 4. ],\n",
       "       [3. , 2.5, 2.2]])"
      ]
     },
     "execution_count": 12,
     "metadata": {},
     "output_type": "execute_result"
    }
   ],
   "source": [
    "arr2 / arr1"
   ]
  },
  {
   "cell_type": "code",
   "execution_count": 13,
   "id": "91ad84ce-ec46-4373-b073-5eb8029f3136",
   "metadata": {},
   "outputs": [
    {
     "data": {
      "text/plain": [
       "array([[6, 6, 6],\n",
       "       [6, 6, 6]])"
      ]
     },
     "execution_count": 13,
     "metadata": {},
     "output_type": "execute_result"
    }
   ],
   "source": [
    "arr2 - arr1"
   ]
  },
  {
   "cell_type": "code",
   "execution_count": 14,
   "id": "7fde5dfc-fbfa-40fd-87b6-66fb9246aeb3",
   "metadata": {},
   "outputs": [
    {
     "data": {
      "text/plain": [
       "array([[ 36,  49,  64],\n",
       "       [ 81, 100, 121]])"
      ]
     },
     "execution_count": 14,
     "metadata": {},
     "output_type": "execute_result"
    }
   ],
   "source": [
    "arr2 ** 2"
   ]
  },
  {
   "cell_type": "code",
   "execution_count": 2,
   "id": "5438a76c-a616-4230-90ff-ffc8be757bd5",
   "metadata": {},
   "outputs": [],
   "source": [
    "#arr2 ** 0.5"
   ]
  },
  {
   "cell_type": "code",
   "execution_count": 4,
   "id": "f07071d7-075f-4513-8df9-a4216eb70e28",
   "metadata": {},
   "outputs": [],
   "source": [
    "import numpy as np\n",
    "lis = np.arange(6).reshape(2, 3)"
   ]
  },
  {
   "cell_type": "code",
   "execution_count": 5,
   "id": "3efe686d-c39d-4bf9-a1a1-dc2e679f7840",
   "metadata": {},
   "outputs": [
    {
     "data": {
      "text/plain": [
       "array([[0, 1, 2],\n",
       "       [3, 4, 5]])"
      ]
     },
     "execution_count": 5,
     "metadata": {},
     "output_type": "execute_result"
    }
   ],
   "source": [
    "lis"
   ]
  },
  {
   "cell_type": "code",
   "execution_count": 7,
   "id": "da112821-9633-4112-93ba-fa08255c989b",
   "metadata": {},
   "outputs": [
    {
     "data": {
      "text/plain": [
       "array([4, 5])"
      ]
     },
     "execution_count": 7,
     "metadata": {},
     "output_type": "execute_result"
    }
   ],
   "source": [
    "lis[1, 1:]"
   ]
  },
  {
   "cell_type": "code",
   "execution_count": 10,
   "id": "c2184ebf-4775-4ed7-82d8-ba510317632b",
   "metadata": {},
   "outputs": [
    {
     "name": "stdout",
     "output_type": "stream",
     "text": [
      "Men Shamsiddinov MuhammadSodiq Xasanboy o'g'li 2006 - yil 25 - avgustda tug'ilganman va men hozirda klaviaturaga qaramasdan yozishni mashq qilayapman va bu ish juda qiyin ekanu lekin baribir o'rganaman!!!\n"
     ]
    }
   ],
   "source": [
    "print(\"\"\"Men Shamsiddinov MuhammadSodiq Xasanboy o'g'li 2006 - yil 25 - avgustda tug'ilganman va men hozirda klaviaturaga qaramasdan yozishni mashq qilayapman va bu ish juda qiyin ekanu lekin baribir o'rganaman!!!\"\"\")"
   ]
  },
  {
   "cell_type": "code",
   "execution_count": null,
   "id": "90ac4018-6916-4a0d-8f8c-ef4409abc7b3",
   "metadata": {},
   "outputs": [],
   "source": []
  }
 ],
 "metadata": {
  "kernelspec": {
   "display_name": "Python 3 (ipykernel)",
   "language": "python",
   "name": "python3"
  },
  "language_info": {
   "codemirror_mode": {
    "name": "ipython",
    "version": 3
   },
   "file_extension": ".py",
   "mimetype": "text/x-python",
   "name": "python",
   "nbconvert_exporter": "python",
   "pygments_lexer": "ipython3",
   "version": "3.11.7"
  }
 },
 "nbformat": 4,
 "nbformat_minor": 5
}
