{
 "cells": [
  {
   "cell_type": "code",
   "execution_count": 1,
   "id": "b15ed461-57dc-4004-a3f9-1e9f89d8a421",
   "metadata": {},
   "outputs": [],
   "source": [
    "import numpy as np"
   ]
  },
  {
   "cell_type": "code",
   "execution_count": 2,
   "id": "a4ca3e6d-773b-4012-98c4-e6eba27bc86a",
   "metadata": {},
   "outputs": [],
   "source": [
    "arr = np.random.rand(4)"
   ]
  },
  {
   "cell_type": "code",
   "execution_count": 3,
   "id": "c2a879d9-851b-475d-93fa-bcd99486ad2e",
   "metadata": {},
   "outputs": [
    {
     "data": {
      "text/plain": [
       "array([0.46323431, 0.88621343, 0.99106715, 0.3994072 ])"
      ]
     },
     "execution_count": 3,
     "metadata": {},
     "output_type": "execute_result"
    }
   ],
   "source": [
    "arr"
   ]
  },
  {
   "cell_type": "code",
   "execution_count": 4,
   "id": "11d05c4a-0b3c-434f-960e-2dcd626ec9c0",
   "metadata": {},
   "outputs": [],
   "source": [
    "sort_arr = np.sort(arr)"
   ]
  },
  {
   "cell_type": "code",
   "execution_count": 5,
   "id": "3f6d4439-3819-4d5c-afa1-a22bbd123301",
   "metadata": {},
   "outputs": [
    {
     "data": {
      "text/plain": [
       "array([0.3994072 , 0.46323431, 0.88621343, 0.99106715])"
      ]
     },
     "execution_count": 5,
     "metadata": {},
     "output_type": "execute_result"
    }
   ],
   "source": [
    "sort_arr"
   ]
  },
  {
   "cell_type": "code",
   "execution_count": 6,
   "id": "3772d507-bdd8-4e0d-9418-0017da2d41dd",
   "metadata": {},
   "outputs": [],
   "source": [
    "arr.sort()"
   ]
  },
  {
   "cell_type": "code",
   "execution_count": 7,
   "id": "8c9f5ea0-84fd-42fd-afc7-f39c4b420ebd",
   "metadata": {},
   "outputs": [
    {
     "data": {
      "text/plain": [
       "array([0.3994072 , 0.46323431, 0.88621343, 0.99106715])"
      ]
     },
     "execution_count": 7,
     "metadata": {},
     "output_type": "execute_result"
    }
   ],
   "source": [
    "arr"
   ]
  },
  {
   "cell_type": "code",
   "execution_count": 8,
   "id": "5851a518-2285-4340-90c1-2769f4481bdb",
   "metadata": {},
   "outputs": [
    {
     "data": {
      "text/plain": [
       "array([[-0.73169455,  1.42305707, -0.28882246, -0.52362077],\n",
       "       [ 0.73095378, -0.39350368,  0.16907088, -0.53583385]])"
      ]
     },
     "execution_count": 8,
     "metadata": {},
     "output_type": "execute_result"
    }
   ],
   "source": [
    "arr2d = np.random.randn(2, 4)\n",
    "arr2d"
   ]
  },
  {
   "cell_type": "code",
   "execution_count": 9,
   "id": "11469e65-d038-46b8-b65c-c0646f1a1dc7",
   "metadata": {},
   "outputs": [
    {
     "data": {
      "text/plain": [
       "array([[-0.73169455, -0.39350368, -0.28882246, -0.53583385],\n",
       "       [ 0.73095378,  1.42305707,  0.16907088, -0.52362077]])"
      ]
     },
     "execution_count": 9,
     "metadata": {},
     "output_type": "execute_result"
    }
   ],
   "source": [
    "# Vertical Sorting\n",
    "row_srt = np.sort(arr2d, axis = 0)\n",
    "row_srt"
   ]
  },
  {
   "cell_type": "code",
   "execution_count": 10,
   "id": "4e271928-8ac7-4e1b-9f53-e9f6abba9508",
   "metadata": {},
   "outputs": [
    {
     "data": {
      "text/plain": [
       "array([[-0.73169455, -0.52362077, -0.28882246,  1.42305707],\n",
       "       [-0.53583385, -0.39350368,  0.16907088,  0.73095378]])"
      ]
     },
     "execution_count": 10,
     "metadata": {},
     "output_type": "execute_result"
    }
   ],
   "source": [
    "# Horizontal sorting\n",
    "col_srt = np.sort(arr2d, axis = 1)\n",
    "col_srt"
   ]
  },
  {
   "cell_type": "code",
   "execution_count": null,
   "id": "4231fb54-b748-465c-8542-8a19665948df",
   "metadata": {},
   "outputs": [],
   "source": []
  }
 ],
 "metadata": {
  "kernelspec": {
   "display_name": "Python 3 (ipykernel)",
   "language": "python",
   "name": "python3"
  },
  "language_info": {
   "codemirror_mode": {
    "name": "ipython",
    "version": 3
   },
   "file_extension": ".py",
   "mimetype": "text/x-python",
   "name": "python",
   "nbconvert_exporter": "python",
   "pygments_lexer": "ipython3",
   "version": "3.11.7"
  }
 },
 "nbformat": 4,
 "nbformat_minor": 5
}
