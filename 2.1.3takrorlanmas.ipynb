{
 "cells": [
  {
   "cell_type": "code",
   "execution_count": 1,
   "id": "c35c7f37-5864-43ed-8fdf-dd32e0fe1925",
   "metadata": {},
   "outputs": [],
   "source": [
    "import numpy as np"
   ]
  },
  {
   "cell_type": "code",
   "execution_count": 2,
   "id": "3075d98e-6101-4124-b259-fea3fa5e667c",
   "metadata": {},
   "outputs": [],
   "source": [
    "# unique\n",
    "names = np.array(['Sarvar', 'Abdurahmon', 'Hasan', 'Temur', 'Sarvar', 'Temur'])\n",
    "ints = np.array([3, 3, 3, 2, 2, 1, 1, 4, 4])"
   ]
  },
  {
   "cell_type": "code",
   "execution_count": 3,
   "id": "0f688efa-0604-46c9-a168-cb652f02bb84",
   "metadata": {},
   "outputs": [
    {
     "data": {
      "text/plain": [
       "array(['Abdurahmon', 'Hasan', 'Sarvar', 'Temur'], dtype='<U10')"
      ]
     },
     "execution_count": 3,
     "metadata": {},
     "output_type": "execute_result"
    }
   ],
   "source": [
    "np.unique(names)"
   ]
  },
  {
   "cell_type": "code",
   "execution_count": 4,
   "id": "2f5c36d8-ffb1-49f8-8710-38b7a8238cc2",
   "metadata": {},
   "outputs": [
    {
     "data": {
      "text/plain": [
       "{'Abdurahmon', 'Hasan', 'Sarvar', 'Temur'}"
      ]
     },
     "execution_count": 4,
     "metadata": {},
     "output_type": "execute_result"
    }
   ],
   "source": [
    "set(names)"
   ]
  },
  {
   "cell_type": "code",
   "execution_count": 5,
   "id": "0d6db27f-7248-42c7-8406-dbc169b63d84",
   "metadata": {},
   "outputs": [
    {
     "data": {
      "text/plain": [
       "array([1, 2, 3, 4])"
      ]
     },
     "execution_count": 5,
     "metadata": {},
     "output_type": "execute_result"
    }
   ],
   "source": [
    "np.unique(ints)"
   ]
  },
  {
   "cell_type": "code",
   "execution_count": 8,
   "id": "613c59c8-7820-4dd2-91b5-679f0c8ab30a",
   "metadata": {},
   "outputs": [],
   "source": [
    "#in1d\n",
    "arr1 = np.array([6, 0, 0, 3, 2, 5, 6])\n",
    "arr2 = np.array([0, 2, 3])"
   ]
  },
  {
   "cell_type": "code",
   "execution_count": 9,
   "id": "873c896c-a4bc-4d13-bf8d-78a62238bec9",
   "metadata": {},
   "outputs": [
    {
     "data": {
      "text/plain": [
       "array([False,  True,  True,  True,  True, False, False])"
      ]
     },
     "execution_count": 9,
     "metadata": {},
     "output_type": "execute_result"
    }
   ],
   "source": [
    "np.in1d(arr1, arr2)"
   ]
  },
  {
   "cell_type": "code",
   "execution_count": 10,
   "id": "1c787c56-756c-449e-962e-316a7f49c8a9",
   "metadata": {},
   "outputs": [],
   "source": [
    "# setdiff1d\n",
    "names1 = np.array(['Jasur', 'Abdurahmon', 'Hasan','Muhammad', 'Temur', 'Sarvar'])\n",
    "names2 = np.array(['Sarvar','Abdurahmon', 'Hasan', 'Temur', 'Sarvar', 'Temur'])"
   ]
  },
  {
   "cell_type": "code",
   "execution_count": 11,
   "id": "427eefcb-06fc-490d-a99c-06cb0c8c0bff",
   "metadata": {},
   "outputs": [
    {
     "data": {
      "text/plain": [
       "array(['Jasur', 'Muhammad'], dtype='<U10')"
      ]
     },
     "execution_count": 11,
     "metadata": {},
     "output_type": "execute_result"
    }
   ],
   "source": [
    "np.setdiff1d(names1, names2)"
   ]
  }
 ],
 "metadata": {
  "kernelspec": {
   "display_name": "Python 3 (ipykernel)",
   "language": "python",
   "name": "python3"
  },
  "language_info": {
   "codemirror_mode": {
    "name": "ipython",
    "version": 3
   },
   "file_extension": ".py",
   "mimetype": "text/x-python",
   "name": "python",
   "nbconvert_exporter": "python",
   "pygments_lexer": "ipython3",
   "version": "3.11.7"
  }
 },
 "nbformat": 4,
 "nbformat_minor": 5
}
