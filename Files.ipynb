{
 "cells": [
  {
   "cell_type": "code",
   "execution_count": 1,
   "id": "d234ea33-7046-4386-8ca6-e2749ba3576a",
   "metadata": {},
   "outputs": [],
   "source": [
    "import numpy as np"
   ]
  },
  {
   "cell_type": "code",
   "execution_count": 2,
   "id": "688bd0cc-48b2-42c1-b176-a092715d4169",
   "metadata": {},
   "outputs": [],
   "source": [
    "arr = np.arange(10)"
   ]
  },
  {
   "cell_type": "code",
   "execution_count": 3,
   "id": "d8680eaf-89b1-4dbd-96f4-f5e0f71dcb7a",
   "metadata": {},
   "outputs": [
    {
     "data": {
      "text/plain": [
       "array([0, 1, 2, 3, 4, 5, 6, 7, 8, 9])"
      ]
     },
     "execution_count": 3,
     "metadata": {},
     "output_type": "execute_result"
    }
   ],
   "source": [
    "arr"
   ]
  },
  {
   "cell_type": "code",
   "execution_count": 4,
   "id": "e8b20a7c-d469-45ec-a7ce-91138cc4e0d3",
   "metadata": {},
   "outputs": [],
   "source": [
    "np.save('data', arr)"
   ]
  },
  {
   "cell_type": "code",
   "execution_count": 5,
   "id": "825bcaae-d754-4cd2-ab8c-2c8cd71cac06",
   "metadata": {},
   "outputs": [
    {
     "data": {
      "text/plain": [
       "array([0, 1, 2, 3, 4, 5, 6, 7, 8, 9])"
      ]
     },
     "execution_count": 5,
     "metadata": {},
     "output_type": "execute_result"
    }
   ],
   "source": [
    "arr2 = np.load('data.npy')\n",
    "arr2"
   ]
  },
  {
   "cell_type": "code",
   "execution_count": 6,
   "id": "8228cadf-0a99-4b15-87ea-810c86e3406a",
   "metadata": {},
   "outputs": [
    {
     "data": {
      "text/plain": [
       "array([10, 11, 12, 13, 14, 15, 16, 17, 18, 19])"
      ]
     },
     "execution_count": 6,
     "metadata": {},
     "output_type": "execute_result"
    }
   ],
   "source": [
    "arr1 = np.arange(10, 20)\n",
    "arr1"
   ]
  },
  {
   "cell_type": "code",
   "execution_count": 7,
   "id": "e37dd667-1460-48e8-8b97-0d77331e1811",
   "metadata": {},
   "outputs": [],
   "source": [
    "np.savez('arrays', a = arr, b = arr1)"
   ]
  },
  {
   "cell_type": "code",
   "execution_count": 8,
   "id": "5aff05d7-6468-48c3-918d-6b23a170380e",
   "metadata": {},
   "outputs": [],
   "source": [
    "arrays = np.load('arrays.npz')"
   ]
  },
  {
   "cell_type": "code",
   "execution_count": 9,
   "id": "7777dfca-651b-400f-bda9-f51b4ecccbd2",
   "metadata": {},
   "outputs": [
    {
     "data": {
      "text/plain": [
       "array([0, 1, 2, 3, 4, 5, 6, 7, 8, 9])"
      ]
     },
     "execution_count": 9,
     "metadata": {},
     "output_type": "execute_result"
    }
   ],
   "source": [
    "arrays['a']"
   ]
  },
  {
   "cell_type": "code",
   "execution_count": 10,
   "id": "7d167bd5-29cf-4661-adfa-69105235f529",
   "metadata": {},
   "outputs": [
    {
     "data": {
      "text/plain": [
       "array([10, 11, 12, 13, 14, 15, 16, 17, 18, 19])"
      ]
     },
     "execution_count": 10,
     "metadata": {},
     "output_type": "execute_result"
    }
   ],
   "source": [
    "arrays['b']"
   ]
  },
  {
   "cell_type": "code",
   "execution_count": 13,
   "id": "e565f83d-7a01-40f4-83f4-955da4ac3513",
   "metadata": {},
   "outputs": [],
   "source": [
    "np.savez_compressed('arrays_zip', a = arr, b = arr1)"
   ]
  },
  {
   "cell_type": "code",
   "execution_count": 15,
   "id": "6fbfceb6-8fc8-47fa-9813-ffa98443a14d",
   "metadata": {},
   "outputs": [],
   "source": [
    "arr3 = np.load('arrays_zip.npz')"
   ]
  },
  {
   "cell_type": "code",
   "execution_count": 16,
   "id": "6de9045a-b4af-43c9-9aab-014252023244",
   "metadata": {},
   "outputs": [
    {
     "data": {
      "text/plain": [
       "array([0, 1, 2, 3, 4, 5, 6, 7, 8, 9])"
      ]
     },
     "execution_count": 16,
     "metadata": {},
     "output_type": "execute_result"
    }
   ],
   "source": [
    "arr3['a']"
   ]
  },
  {
   "cell_type": "code",
   "execution_count": 17,
   "id": "85a916ea-a205-4ccb-a7da-3bf11967380d",
   "metadata": {},
   "outputs": [
    {
     "data": {
      "text/plain": [
       "array([10, 11, 12, 13, 14, 15, 16, 17, 18, 19])"
      ]
     },
     "execution_count": 17,
     "metadata": {},
     "output_type": "execute_result"
    }
   ],
   "source": [
    "arr3['b']"
   ]
  },
  {
   "cell_type": "code",
   "execution_count": null,
   "id": "d6f71785-d195-436e-bcd2-715002980abb",
   "metadata": {},
   "outputs": [],
   "source": []
  }
 ],
 "metadata": {
  "kernelspec": {
   "display_name": "Python 3 (ipykernel)",
   "language": "python",
   "name": "python3"
  },
  "language_info": {
   "codemirror_mode": {
    "name": "ipython",
    "version": 3
   },
   "file_extension": ".py",
   "mimetype": "text/x-python",
   "name": "python",
   "nbconvert_exporter": "python",
   "pygments_lexer": "ipython3",
   "version": "3.11.7"
  }
 },
 "nbformat": 4,
 "nbformat_minor": 5
}
