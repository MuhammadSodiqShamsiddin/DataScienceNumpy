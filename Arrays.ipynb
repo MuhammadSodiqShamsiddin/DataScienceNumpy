{
 "cells": [
  {
   "cell_type": "code",
   "execution_count": 1,
   "id": "dcaa2bf7-d8c6-4cd3-b7a6-bcfcda0929e8",
   "metadata": {},
   "outputs": [],
   "source": [
    "import numpy as np"
   ]
  },
  {
   "cell_type": "code",
   "execution_count": 2,
   "id": "1acc647f-2d2c-4d6a-8479-282c924589f1",
   "metadata": {},
   "outputs": [],
   "source": [
    "data1 = [1, 2.5, 3.5, 6]\n",
    "arr1 = np.array(data1)"
   ]
  },
  {
   "cell_type": "code",
   "execution_count": 3,
   "id": "146e12cf-a927-4dfd-8085-fd4bb818d081",
   "metadata": {},
   "outputs": [
    {
     "data": {
      "text/plain": [
       "[1, 2.5, 3.5, 6]"
      ]
     },
     "execution_count": 3,
     "metadata": {},
     "output_type": "execute_result"
    }
   ],
   "source": [
    "data1"
   ]
  },
  {
   "cell_type": "code",
   "execution_count": 4,
   "id": "2fd86e49-60ad-456d-a291-7919ebec77e6",
   "metadata": {},
   "outputs": [
    {
     "data": {
      "text/plain": [
       "array([1. , 2.5, 3.5, 6. ])"
      ]
     },
     "execution_count": 4,
     "metadata": {},
     "output_type": "execute_result"
    }
   ],
   "source": [
    "arr1"
   ]
  },
  {
   "cell_type": "code",
   "execution_count": 5,
   "id": "bf83d3a4-2f94-492c-9839-a2f3bed30765",
   "metadata": {},
   "outputs": [],
   "source": [
    "data2 = (4, 5, 3.2, 7)"
   ]
  },
  {
   "cell_type": "code",
   "execution_count": 6,
   "id": "fa2dba76-6991-4f52-9956-cc3c7cdd94d2",
   "metadata": {},
   "outputs": [],
   "source": [
    "arr2 = np.array(data2)"
   ]
  },
  {
   "cell_type": "code",
   "execution_count": 7,
   "id": "eb8e26be-bf4b-4d3e-95c5-926d6214aec5",
   "metadata": {},
   "outputs": [
    {
     "data": {
      "text/plain": [
       "(4, 5, 3.2, 7)"
      ]
     },
     "execution_count": 7,
     "metadata": {},
     "output_type": "execute_result"
    }
   ],
   "source": [
    "data2"
   ]
  },
  {
   "cell_type": "code",
   "execution_count": 8,
   "id": "576c5809-7908-40a6-b4b5-dc04c5b72ad0",
   "metadata": {},
   "outputs": [
    {
     "data": {
      "text/plain": [
       "array([4. , 5. , 3.2, 7. ])"
      ]
     },
     "execution_count": 8,
     "metadata": {},
     "output_type": "execute_result"
    }
   ],
   "source": [
    "arr2"
   ]
  },
  {
   "cell_type": "code",
   "execution_count": 9,
   "id": "a28b71ec-31ef-48e8-ba16-f01e3d041112",
   "metadata": {},
   "outputs": [
    {
     "data": {
      "text/plain": [
       "1"
      ]
     },
     "execution_count": 9,
     "metadata": {},
     "output_type": "execute_result"
    }
   ],
   "source": [
    "arr1.ndim"
   ]
  },
  {
   "cell_type": "code",
   "execution_count": 10,
   "id": "e4f44099-6eb3-4fa5-be80-8c4e83c61cf6",
   "metadata": {},
   "outputs": [
    {
     "data": {
      "text/plain": [
       "1"
      ]
     },
     "execution_count": 10,
     "metadata": {},
     "output_type": "execute_result"
    }
   ],
   "source": [
    "arr2.ndim"
   ]
  },
  {
   "cell_type": "code",
   "execution_count": 22,
   "id": "7913661f-128c-4a4c-b89f-0223c4f0467e",
   "metadata": {},
   "outputs": [],
   "source": [
    "data3 = [[1, 2, 3, 4], [5, 6, 7, 8], [9, 10, 11, 12]] #Nested List"
   ]
  },
  {
   "cell_type": "code",
   "execution_count": 23,
   "id": "589623e3-1b37-4e70-bd3d-bc0929fde401",
   "metadata": {},
   "outputs": [],
   "source": [
    "arr3 = np.array(data3)"
   ]
  },
  {
   "cell_type": "code",
   "execution_count": 24,
   "id": "11afa62a-287d-4568-ad57-51709ca75908",
   "metadata": {},
   "outputs": [
    {
     "data": {
      "text/plain": [
       "array([[ 1,  2,  3,  4],\n",
       "       [ 5,  6,  7,  8],\n",
       "       [ 9, 10, 11, 12]])"
      ]
     },
     "execution_count": 24,
     "metadata": {},
     "output_type": "execute_result"
    }
   ],
   "source": [
    "arr3"
   ]
  },
  {
   "cell_type": "code",
   "execution_count": 25,
   "id": "09d7bf5e-02db-4136-affc-3032fef2686e",
   "metadata": {},
   "outputs": [
    {
     "data": {
      "text/plain": [
       "2"
      ]
     },
     "execution_count": 25,
     "metadata": {},
     "output_type": "execute_result"
    }
   ],
   "source": [
    "arr3.ndim"
   ]
  },
  {
   "cell_type": "code",
   "execution_count": 29,
   "id": "c6f44ac0-e57a-4846-a91f-fec9394f37cc",
   "metadata": {},
   "outputs": [],
   "source": [
    "data4 = [[1, 2, 3],\n",
    "         [4, 5, 6],\n",
    "         [7, 8, 9]]\n",
    "arr4 = np.array(data4)"
   ]
  },
  {
   "cell_type": "code",
   "execution_count": 30,
   "id": "9f1d31e1-b541-486c-b03d-59972094df8e",
   "metadata": {},
   "outputs": [
    {
     "data": {
      "text/plain": [
       "array([[1, 2, 3],\n",
       "       [4, 5, 6],\n",
       "       [7, 8, 9]])"
      ]
     },
     "execution_count": 30,
     "metadata": {},
     "output_type": "execute_result"
    }
   ],
   "source": [
    "arr4"
   ]
  },
  {
   "cell_type": "code",
   "execution_count": 31,
   "id": "2b4b8421-e988-4610-91f2-a87a7d1eda2a",
   "metadata": {},
   "outputs": [
    {
     "data": {
      "text/plain": [
       "2"
      ]
     },
     "execution_count": 31,
     "metadata": {},
     "output_type": "execute_result"
    }
   ],
   "source": [
    "arr4.ndim"
   ]
  },
  {
   "cell_type": "code",
   "execution_count": 32,
   "id": "7b7c7965-1413-4cc1-b5da-9f67a007f741",
   "metadata": {},
   "outputs": [
    {
     "data": {
      "text/plain": [
       "(3, 3)"
      ]
     },
     "execution_count": 32,
     "metadata": {},
     "output_type": "execute_result"
    }
   ],
   "source": [
    "arr4.shape # Tuple ko'rinishida Qator va ustunlar sonini ko'rsatadi"
   ]
  },
  {
   "cell_type": "code",
   "execution_count": 28,
   "id": "cc05b2e4-6565-468d-bbec-d20c6e029463",
   "metadata": {},
   "outputs": [
    {
     "data": {
      "text/plain": [
       "9"
      ]
     },
     "execution_count": 28,
     "metadata": {},
     "output_type": "execute_result"
    }
   ],
   "source": [
    "arr4.size # Elementlar soni"
   ]
  },
  {
   "cell_type": "code",
   "execution_count": 36,
   "id": "5619b6f1-e810-4ce9-b1a4-b3768cdfd9c0",
   "metadata": {},
   "outputs": [
    {
     "data": {
      "text/plain": [
       "array([[0., 0., 0.],\n",
       "       [0., 0., 0.],\n",
       "       [0., 0., 0.]])"
      ]
     },
     "execution_count": 36,
     "metadata": {},
     "output_type": "execute_result"
    }
   ],
   "source": [
    "arr5 = np.zeros(shape = (3, 3))\n",
    "arr5"
   ]
  },
  {
   "cell_type": "code",
   "execution_count": 39,
   "id": "58b344d0-20ce-4697-96ab-026862cbbadf",
   "metadata": {},
   "outputs": [],
   "source": [
    "arr6 = np.ones((2, 4))"
   ]
  },
  {
   "cell_type": "code",
   "execution_count": 40,
   "id": "2502dba4-9b98-4a51-a1f2-1fae3f39e2f6",
   "metadata": {},
   "outputs": [
    {
     "data": {
      "text/plain": [
       "array([[1., 1., 1., 1.],\n",
       "       [1., 1., 1., 1.]])"
      ]
     },
     "execution_count": 40,
     "metadata": {},
     "output_type": "execute_result"
    }
   ],
   "source": [
    "arr6"
   ]
  },
  {
   "cell_type": "code",
   "execution_count": 41,
   "id": "bf036348-94d3-41f9-b193-0120c3ae20c1",
   "metadata": {},
   "outputs": [
    {
     "data": {
      "text/plain": [
       "array([ 4,  6,  8, 10, 12, 14, 16, 18])"
      ]
     },
     "execution_count": 41,
     "metadata": {},
     "output_type": "execute_result"
    }
   ],
   "source": [
    "arr7 = np.arange(4, 20, 2) # 4 dan 20 gacha 2 qadam bilan array\n",
    "arr7"
   ]
  },
  {
   "cell_type": "code",
   "execution_count": 44,
   "id": "9ba1638c-ab2f-4104-b5d7-dd38b8967fcd",
   "metadata": {},
   "outputs": [],
   "source": [
    "arr8 = np.arange(30)"
   ]
  },
  {
   "cell_type": "code",
   "execution_count": 45,
   "id": "3156b6bb-87ae-4446-baf7-9f2e3003d12b",
   "metadata": {},
   "outputs": [
    {
     "data": {
      "text/plain": [
       "array([ 0,  1,  2,  3,  4,  5,  6,  7,  8,  9, 10, 11, 12, 13, 14, 15, 16,\n",
       "       17, 18, 19, 20, 21, 22, 23, 24, 25, 26, 27, 28, 29])"
      ]
     },
     "execution_count": 45,
     "metadata": {},
     "output_type": "execute_result"
    }
   ],
   "source": [
    "arr8"
   ]
  }
 ],
 "metadata": {
  "kernelspec": {
   "display_name": "Python 3 (ipykernel)",
   "language": "python",
   "name": "python3"
  },
  "language_info": {
   "codemirror_mode": {
    "name": "ipython",
    "version": 3
   },
   "file_extension": ".py",
   "mimetype": "text/x-python",
   "name": "python",
   "nbconvert_exporter": "python",
   "pygments_lexer": "ipython3",
   "version": "3.11.7"
  }
 },
 "nbformat": 4,
 "nbformat_minor": 5
}
