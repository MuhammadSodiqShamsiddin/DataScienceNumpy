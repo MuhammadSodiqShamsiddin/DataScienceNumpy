{
 "cells": [
  {
   "cell_type": "code",
   "execution_count": 1,
   "id": "cd8ea115-408b-4c80-a4b4-bd724a2c8e85",
   "metadata": {},
   "outputs": [],
   "source": [
    "import numpy as np"
   ]
  },
  {
   "cell_type": "code",
   "execution_count": 2,
   "id": "932561d6-54ed-4352-bf00-646524d8d814",
   "metadata": {},
   "outputs": [],
   "source": [
    "# Massives\n",
    "arr1 = np.array([1.1, 1.2, 1.3, 1.4, 1.5])\n",
    "arr2 = np.array([2.1, 2.2, 2.3, 2.4, 2.5])"
   ]
  },
  {
   "cell_type": "code",
   "execution_count": 3,
   "id": "af750388-aa72-40e4-857a-b0bcc6356c6c",
   "metadata": {},
   "outputs": [],
   "source": [
    "#Condition\n",
    "cond = np.array([True, False, True, True, False])"
   ]
  },
  {
   "cell_type": "code",
   "execution_count": 4,
   "id": "b5d8fea7-f553-4597-848e-a4341ef8c7f0",
   "metadata": {},
   "outputs": [],
   "source": [
    "#where function\n",
    "result = np.where(cond, arr1, arr2)"
   ]
  },
  {
   "cell_type": "code",
   "execution_count": 5,
   "id": "85a07b11-320a-4294-ae05-a931dd6f8077",
   "metadata": {},
   "outputs": [
    {
     "data": {
      "text/plain": [
       "array([1.1, 2.2, 1.3, 1.4, 2.5])"
      ]
     },
     "execution_count": 5,
     "metadata": {},
     "output_type": "execute_result"
    }
   ],
   "source": [
    "result"
   ]
  },
  {
   "cell_type": "code",
   "execution_count": 6,
   "id": "8c31df14-3481-411f-8962-9798dc0a34db",
   "metadata": {},
   "outputs": [],
   "source": [
    "arr = np.random.randn(4, 4)"
   ]
  },
  {
   "cell_type": "code",
   "execution_count": 7,
   "id": "41954227-e518-4314-aa36-d50d16243b84",
   "metadata": {},
   "outputs": [
    {
     "data": {
      "text/plain": [
       "array([[ 0.29260663, -0.87923411, -0.49230481,  0.62911523],\n",
       "       [ 0.06371129, -0.05356868,  0.75358109, -0.61943257],\n",
       "       [-1.38299656,  0.05572227,  2.03889834, -1.37957238],\n",
       "       [-1.30706375,  0.26161267, -1.74154777, -0.79808405]])"
      ]
     },
     "execution_count": 7,
     "metadata": {},
     "output_type": "execute_result"
    }
   ],
   "source": [
    "arr"
   ]
  },
  {
   "cell_type": "code",
   "execution_count": 8,
   "id": "1244f3db-df48-4b34-aa69-aefaa48cde25",
   "metadata": {},
   "outputs": [
    {
     "data": {
      "text/plain": [
       "array([[ 2, -2, -2,  2],\n",
       "       [ 2, -2,  2, -2],\n",
       "       [-2,  2,  2, -2],\n",
       "       [-2,  2, -2, -2]])"
      ]
     },
     "execution_count": 8,
     "metadata": {},
     "output_type": "execute_result"
    }
   ],
   "source": [
    "results = np.where(arr>0, 2, -2)\n",
    "results"
   ]
  },
  {
   "cell_type": "code",
   "execution_count": null,
   "id": "8fa1e53c-8638-4dcc-a2b0-a1c82608c21f",
   "metadata": {},
   "outputs": [],
   "source": []
  }
 ],
 "metadata": {
  "kernelspec": {
   "display_name": "Python 3 (ipykernel)",
   "language": "python",
   "name": "python3"
  },
  "language_info": {
   "codemirror_mode": {
    "name": "ipython",
    "version": 3
   },
   "file_extension": ".py",
   "mimetype": "text/x-python",
   "name": "python",
   "nbconvert_exporter": "python",
   "pygments_lexer": "ipython3",
   "version": "3.11.7"
  }
 },
 "nbformat": 4,
 "nbformat_minor": 5
}
