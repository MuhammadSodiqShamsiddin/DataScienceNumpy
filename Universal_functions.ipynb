{
 "cells": [
  {
   "cell_type": "code",
   "execution_count": 2,
   "id": "338de981-122b-46c3-9572-7eb987ae1f8a",
   "metadata": {},
   "outputs": [],
   "source": [
    "import numpy as np"
   ]
  },
  {
   "cell_type": "code",
   "execution_count": 2,
   "id": "7a9a51c4-a01c-4ddc-b4aa-a7ac2bd10676",
   "metadata": {},
   "outputs": [],
   "source": [
    "arr = np.arange(10)"
   ]
  },
  {
   "cell_type": "code",
   "execution_count": 3,
   "id": "d70abf46-96c2-404a-8ff0-e54ee1de07af",
   "metadata": {},
   "outputs": [
    {
     "data": {
      "text/plain": [
       "array([0.        , 1.        , 1.41421356, 1.73205081, 2.        ,\n",
       "       2.23606798, 2.44948974, 2.64575131, 2.82842712, 3.        ])"
      ]
     },
     "execution_count": 3,
     "metadata": {},
     "output_type": "execute_result"
    }
   ],
   "source": [
    "np.sqrt(arr)"
   ]
  },
  {
   "cell_type": "code",
   "execution_count": 4,
   "id": "44148101-19ed-4a54-9a74-23be7e56a5aa",
   "metadata": {},
   "outputs": [
    {
     "data": {
      "text/plain": [
       "array([ 0,  1,  4,  9, 16, 25, 36, 49, 64, 81])"
      ]
     },
     "execution_count": 4,
     "metadata": {},
     "output_type": "execute_result"
    }
   ],
   "source": [
    "np.square(arr)"
   ]
  },
  {
   "cell_type": "code",
   "execution_count": 5,
   "id": "b9b49132-3188-424f-88bf-7cfb56bb2c6f",
   "metadata": {},
   "outputs": [
    {
     "data": {
      "text/plain": [
       "array([1.00000000e+00, 2.71828183e+00, 7.38905610e+00, 2.00855369e+01,\n",
       "       5.45981500e+01, 1.48413159e+02, 4.03428793e+02, 1.09663316e+03,\n",
       "       2.98095799e+03, 8.10308393e+03])"
      ]
     },
     "execution_count": 5,
     "metadata": {},
     "output_type": "execute_result"
    }
   ],
   "source": [
    "np.exp(arr) #e asosga ko'ra arr - daraja"
   ]
  },
  {
   "cell_type": "code",
   "execution_count": 6,
   "id": "124567b2-202b-45c5-8b67-15cd64a4eed4",
   "metadata": {},
   "outputs": [
    {
     "name": "stderr",
     "output_type": "stream",
     "text": [
      "C:\\Users\\QuadroMi\\AppData\\Local\\Temp\\ipykernel_3624\\2884154507.py:1: RuntimeWarning: divide by zero encountered in log\n",
      "  np.log(arr) # logarifm e asoska ko'ra arr\n"
     ]
    },
    {
     "data": {
      "text/plain": [
       "array([      -inf, 0.        , 0.69314718, 1.09861229, 1.38629436,\n",
       "       1.60943791, 1.79175947, 1.94591015, 2.07944154, 2.19722458])"
      ]
     },
     "execution_count": 6,
     "metadata": {},
     "output_type": "execute_result"
    }
   ],
   "source": [
    "np.log(arr) # logarifm e asoska ko'ra arr"
   ]
  },
  {
   "cell_type": "code",
   "execution_count": 7,
   "id": "cebea13b-1dff-4d90-9af1-c23fe2675d69",
   "metadata": {},
   "outputs": [
    {
     "data": {
      "text/plain": [
       "array([0.        , 0.69314718, 1.09861229, 1.38629436, 1.60943791,\n",
       "       1.79175947, 1.94591015, 2.07944154, 2.19722458])"
      ]
     },
     "execution_count": 7,
     "metadata": {},
     "output_type": "execute_result"
    }
   ],
   "source": [
    "np.log(arr[1:])"
   ]
  },
  {
   "cell_type": "code",
   "execution_count": 8,
   "id": "a40d3398-4b78-494b-ab83-fb39d66c6c0e",
   "metadata": {},
   "outputs": [
    {
     "data": {
      "text/plain": [
       "array([-0.50437478, -1.5768842 ,  1.12619241,  0.1189305 , -0.50287482,\n",
       "       -0.61730152])"
      ]
     },
     "execution_count": 8,
     "metadata": {},
     "output_type": "execute_result"
    }
   ],
   "source": [
    "arr1 = np.random.randn(6)\n",
    "arr1"
   ]
  },
  {
   "cell_type": "code",
   "execution_count": 9,
   "id": "7d01e231-2e05-4231-b48a-29bb7b98228f",
   "metadata": {},
   "outputs": [
    {
     "name": "stdout",
     "output_type": "stream",
     "text": [
      "[-0. -1.  1.  0. -0. -0.]\n",
      "[-0.50437478 -0.5768842   0.12619241  0.1189305  -0.50287482 -0.61730152]\n"
     ]
    }
   ],
   "source": [
    "qoldiq, butun = np.modf(arr1)\n",
    "print(butun)\n",
    "print(qoldiq)"
   ]
  },
  {
   "cell_type": "code",
   "execution_count": 12,
   "id": "cb7ae096-000d-45d1-b801-5e2ff298ac43",
   "metadata": {},
   "outputs": [
    {
     "data": {
      "text/plain": [
       "array([-1., -1.,  1.,  1., -1., -1.])"
      ]
     },
     "execution_count": 12,
     "metadata": {},
     "output_type": "execute_result"
    }
   ],
   "source": [
    "np.sign(arr1) # faqat 1 va -1 (ishoraga qarab)"
   ]
  },
  {
   "cell_type": "code",
   "execution_count": 13,
   "id": "1d767fbe-81d7-42ab-a569-aeda858e20de",
   "metadata": {},
   "outputs": [
    {
     "data": {
      "text/plain": [
       "array([False, False, False, False, False, False])"
      ]
     },
     "execution_count": 13,
     "metadata": {},
     "output_type": "execute_result"
    }
   ],
   "source": [
    "np.isnan(arr1)"
   ]
  },
  {
   "cell_type": "code",
   "execution_count": 14,
   "id": "ac9dc278-bded-4a23-be4a-b5021bcc4aff",
   "metadata": {},
   "outputs": [
    {
     "data": {
      "text/plain": [
       "array([ True, False, False, False, False, False])"
      ]
     },
     "execution_count": 14,
     "metadata": {},
     "output_type": "execute_result"
    }
   ],
   "source": [
    "arr1[0] = np.NaN\n",
    "np.isnan(arr1)"
   ]
  },
  {
   "cell_type": "code",
   "execution_count": 15,
   "id": "6b7b8fde-7d3e-447f-ba1c-891da440747d",
   "metadata": {},
   "outputs": [
    {
     "data": {
      "text/plain": [
       "array([       nan, 1.5768842 , 1.12619241, 0.1189305 , 0.50287482,\n",
       "       0.61730152])"
      ]
     },
     "execution_count": 15,
     "metadata": {},
     "output_type": "execute_result"
    }
   ],
   "source": [
    "np.abs(arr1)"
   ]
  },
  {
   "cell_type": "code",
   "execution_count": 16,
   "id": "ddcf06dc-8cd7-494a-8cd3-d4736bbfd876",
   "metadata": {},
   "outputs": [
    {
     "data": {
      "text/plain": [
       "array([        nan, -1.5768842 ,  1.12619241,  0.1189305 , -0.50287482,\n",
       "       -0.61730152])"
      ]
     },
     "execution_count": 16,
     "metadata": {},
     "output_type": "execute_result"
    }
   ],
   "source": [
    "arr1"
   ]
  },
  {
   "cell_type": "code",
   "execution_count": 17,
   "id": "150d3672-d952-43d9-b3e9-51df4c0b180b",
   "metadata": {},
   "outputs": [
    {
     "data": {
      "text/plain": [
       "array([       nan, 1.5768842 , 1.12619241, 0.1189305 , 0.50287482,\n",
       "       0.61730152])"
      ]
     },
     "execution_count": 17,
     "metadata": {},
     "output_type": "execute_result"
    }
   ],
   "source": [
    "np.fabs(arr1)"
   ]
  },
  {
   "cell_type": "code",
   "execution_count": 18,
   "id": "aa8f498a-23a7-4f9e-a7d2-c2f84beb34e1",
   "metadata": {},
   "outputs": [
    {
     "data": {
      "text/plain": [
       "array([nan, -1.,  2.,  1., -0., -0.])"
      ]
     },
     "execution_count": 18,
     "metadata": {},
     "output_type": "execute_result"
    }
   ],
   "source": [
    "np.ceil(arr1)"
   ]
  },
  {
   "cell_type": "code",
   "execution_count": 19,
   "id": "f43e1e00-fbff-4606-8c84-88b94ccec097",
   "metadata": {},
   "outputs": [
    {
     "data": {
      "text/plain": [
       "array([nan, -2.,  1.,  0., -1., -1.])"
      ]
     },
     "execution_count": 19,
     "metadata": {},
     "output_type": "execute_result"
    }
   ],
   "source": [
    "np.rint(arr1)"
   ]
  },
  {
   "cell_type": "code",
   "execution_count": 20,
   "id": "536295bd-a35e-41be-91c4-fadfac2591e8",
   "metadata": {},
   "outputs": [
    {
     "data": {
      "text/plain": [
       "array([        nan, -1.5768842 ,  1.12619241,  0.1189305 , -0.50287482,\n",
       "       -0.61730152])"
      ]
     },
     "execution_count": 20,
     "metadata": {},
     "output_type": "execute_result"
    }
   ],
   "source": [
    "arr1"
   ]
  },
  {
   "cell_type": "code",
   "execution_count": 21,
   "id": "1cd532d7-c92a-42fd-b228-bc38ecd77cfe",
   "metadata": {},
   "outputs": [
    {
     "data": {
      "text/plain": [
       "array([nan, -2.,  1.,  0., -1., -1.])"
      ]
     },
     "execution_count": 21,
     "metadata": {},
     "output_type": "execute_result"
    }
   ],
   "source": [
    "np.rint(arr1)"
   ]
  },
  {
   "cell_type": "code",
   "execution_count": 4,
   "id": "a1e843b1-7eb5-40a4-80c7-1b8e740fbc9f",
   "metadata": {},
   "outputs": [],
   "source": [
    "arr2 = np.random.randn(5)\n",
    "arr3 = np.random.randn(5)"
   ]
  },
  {
   "cell_type": "code",
   "execution_count": 5,
   "id": "8366cf6d-f562-441a-9a81-901535158243",
   "metadata": {},
   "outputs": [
    {
     "data": {
      "text/plain": [
       "array([-0.07082446, -1.63097541, -0.03040501,  0.16500591,  0.50733701])"
      ]
     },
     "execution_count": 5,
     "metadata": {},
     "output_type": "execute_result"
    }
   ],
   "source": [
    "arr2"
   ]
  },
  {
   "cell_type": "code",
   "execution_count": 6,
   "id": "db453ce2-cce0-4dcd-895c-728d625c8a3f",
   "metadata": {},
   "outputs": [
    {
     "data": {
      "text/plain": [
       "array([ 0.8721162 , -0.21098073,  0.5183678 ,  0.11346774, -0.32992216])"
      ]
     },
     "execution_count": 6,
     "metadata": {},
     "output_type": "execute_result"
    }
   ],
   "source": [
    "arr3"
   ]
  },
  {
   "cell_type": "code",
   "execution_count": 7,
   "id": "902ef8d7-e25f-49f9-8984-64454ad1ff3a",
   "metadata": {},
   "outputs": [
    {
     "data": {
      "text/plain": [
       "array([ 0.80129174, -1.84195614,  0.48796279,  0.27847365,  0.17741485])"
      ]
     },
     "execution_count": 7,
     "metadata": {},
     "output_type": "execute_result"
    }
   ],
   "source": [
    "np.add(arr2, arr3)"
   ]
  },
  {
   "cell_type": "code",
   "execution_count": 8,
   "id": "86e3844f-c42b-4bd4-9910-0b2c11c03308",
   "metadata": {},
   "outputs": [
    {
     "data": {
      "text/plain": [
       "array([-0.06176716,  0.34410438, -0.01576098,  0.01872285, -0.16738172])"
      ]
     },
     "execution_count": 8,
     "metadata": {},
     "output_type": "execute_result"
    }
   ],
   "source": [
    "np.multiply(arr2, arr3)"
   ]
  },
  {
   "cell_type": "code",
   "execution_count": 10,
   "id": "a5da50a4-6089-4d81-a8bb-5340254ef533",
   "metadata": {},
   "outputs": [
    {
     "data": {
      "text/plain": [
       "array([ 0.8721162 , -0.21098073,  0.5183678 ,  0.16500591,  0.50733701])"
      ]
     },
     "execution_count": 10,
     "metadata": {},
     "output_type": "execute_result"
    }
   ],
   "source": [
    "np.maximum(arr2, arr3)"
   ]
  },
  {
   "cell_type": "code",
   "execution_count": 11,
   "id": "e80a2dc4-98ed-4770-b410-b29e82552301",
   "metadata": {},
   "outputs": [
    {
     "data": {
      "text/plain": [
       "array([ 0.80129174, -0.15411033,  0.48796279,  0.05153817, -0.15250731])"
      ]
     },
     "execution_count": 11,
     "metadata": {},
     "output_type": "execute_result"
    }
   ],
   "source": [
    "np.mod(arr2, arr3)"
   ]
  },
  {
   "cell_type": "code",
   "execution_count": null,
   "id": "26a0915e-eb93-44d3-bf37-ba506a75ee12",
   "metadata": {},
   "outputs": [],
   "source": []
  }
 ],
 "metadata": {
  "kernelspec": {
   "display_name": "Python 3 (ipykernel)",
   "language": "python",
   "name": "python3"
  },
  "language_info": {
   "codemirror_mode": {
    "name": "ipython",
    "version": 3
   },
   "file_extension": ".py",
   "mimetype": "text/x-python",
   "name": "python",
   "nbconvert_exporter": "python",
   "pygments_lexer": "ipython3",
   "version": "3.11.7"
  }
 },
 "nbformat": 4,
 "nbformat_minor": 5
}
